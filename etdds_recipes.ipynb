{
 "cells": [
  {
   "cell_type": "markdown",
   "metadata": {},
   "source": [
    "DEPRECATED -- Code to find matches between a supplied list of identifiers (pids) and the local identifiers found in the original DATA.xml filename."
   ]
  },
  {
   "cell_type": "code",
   "execution_count": null,
   "metadata": {
    "collapsed": false
   },
   "outputs": [],
   "source": [
    "from prereq import find_identifier\n",
    "find_identifier(\"fedcomd2\", \"/Volumes/fedcom_ingest/ETD-Unzipped\", [\"etd:853\", \"etd:1399\", \"etd:1342\", \"etd:2048\"])"
   ]
  },
  {
   "cell_type": "code",
   "execution_count": 19,
   "metadata": {
    "collapsed": false,
    "scrolled": true
   },
   "outputs": [
    {
     "name": "stdout",
     "output_type": "stream",
     "text": [
      "wosl:196\n",
      "wosl:207\n",
      "wosl:234\n",
      "wosl:235\n",
      "wosl:240\n",
      "wosl:245\n",
      "wosl:263\n"
     ]
    }
   ],
   "source": [
    "from repo import repo_connect\n",
    "r = repo_connect(\"fedcomd3\")\n",
    "results = r.find_objects(pid__contains=\"wosl:*\")\n",
    "for r in results:\n",
    "\n",
    "    if any([\"temp.wav\" in r.ds_list[ds].label for ds in r.ds_list.keys()]):\n",
    "        print r.pid"
   ]
  }
 ],
 "metadata": {
  "kernelspec": {
   "display_name": "Python 2",
   "language": "python",
   "name": "python2"
  },
  "language_info": {
   "codemirror_mode": {
    "name": "ipython",
    "version": 2
   },
   "file_extension": ".py",
   "mimetype": "text/x-python",
   "name": "python",
   "nbconvert_exporter": "python",
   "pygments_lexer": "ipython2",
   "version": "2.7.3"
  }
 },
 "nbformat": 4,
 "nbformat_minor": 0
}
