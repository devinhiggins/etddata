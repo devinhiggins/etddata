{
 "metadata": {
  "name": "",
  "signature": "sha256:15eaa7fc7d590c699f4816f295f0654fbf3d11c26bb27bf07532f384d17c997f"
 },
 "nbformat": 3,
 "nbformat_minor": 0,
 "worksheets": [
  {
   "cells": [
    {
     "cell_type": "markdown",
     "metadata": {},
     "source": [
      "Code to find matches between a supplied list of identifiers (pids) and the local identifiers found in the original DATA.xml filename."
     ]
    },
    {
     "cell_type": "code",
     "collapsed": true,
     "input": [
      "from prereq import find_identifier\n",
      "find_identifier(\"fedcomd2\", \"/Volumes/fedcom_ingest/ETD-Unzipped\", [\"etd:853\", \"etd:1399\", \"etd:1342\", \"etd:2048\"])"
     ],
     "language": "python",
     "metadata": {},
     "outputs": [
      {
       "output_type": "stream",
       "stream": "stdout",
       "text": [
        "No object found for Novaes_grad.msu_0128N_13782_DATA.xml\n",
        "No object found for Crutcher_grad.msu_0128D_13762_DATA.xml"
       ]
      },
      {
       "output_type": "stream",
       "stream": "stdout",
       "text": [
        "\n",
        "No object found for Schuchardt_grad.msu_0128N_13672_DATA.xml"
       ]
      },
      {
       "output_type": "stream",
       "stream": "stdout",
       "text": [
        "\n",
        "No object found for Pakanati_grad.msu_0128D_13704_DATA.xml"
       ]
      },
      {
       "output_type": "stream",
       "stream": "stdout",
       "text": [
        "\n",
        "No object found for JacksonII_grad.msu_0128D_13668_DATA.xml"
       ]
      },
      {
       "output_type": "stream",
       "stream": "stdout",
       "text": [
        "\n",
        "No object found for Fan_grad.msu_0128D_13799_DATA.xml"
       ]
      },
      {
       "output_type": "stream",
       "stream": "stdout",
       "text": [
        "\n",
        "No object found for YAPICI_grad.msu_0128D_13539_DATA.xml"
       ]
      },
      {
       "output_type": "stream",
       "stream": "stdout",
       "text": [
        "\n",
        "No object found for MedinaMora_grad.msu_0128D_13579_DATA.xml"
       ]
      },
      {
       "output_type": "stream",
       "stream": "stdout",
       "text": [
        "\n",
        "No object found for Bhattarai_grad.msu_0128D_13666_DATA.xml"
       ]
      },
      {
       "output_type": "stream",
       "stream": "stdout",
       "text": [
        "\n",
        "No object found for Brown_grad.msu_0128D_13733_DATA.xml"
       ]
      },
      {
       "output_type": "stream",
       "stream": "stdout",
       "text": [
        "\n",
        "No object found for Zantjer_grad.msu_0128N_13769_DATA.xml"
       ]
      },
      {
       "output_type": "stream",
       "stream": "stdout",
       "text": [
        "\n",
        "No object found for Wright_grad.msu_0128N_13625_DATA.xml"
       ]
      },
      {
       "output_type": "stream",
       "stream": "stdout",
       "text": [
        "\n",
        "No object found for Melotti_grad.msu_0128N_12522_DATA.xml"
       ]
      },
      {
       "output_type": "stream",
       "stream": "stdout",
       "text": [
        "\n",
        "No object found for Herbst_grad.msu_0128D_13547_DATA.xml"
       ]
      },
      {
       "output_type": "stream",
       "stream": "stdout",
       "text": [
        "\n",
        "No object found for Agostoni_grad.msu_0128D_13725_DATA.xml"
       ]
      },
      {
       "output_type": "stream",
       "stream": "stdout",
       "text": [
        "\n",
        "No object found for Boyer_grad.msu_0128N_13562_DATA.xml"
       ]
      },
      {
       "output_type": "stream",
       "stream": "stdout",
       "text": [
        "\n",
        "No object found for Tsai_grad.msu_0128D_13626_DATA.xml"
       ]
      },
      {
       "output_type": "stream",
       "stream": "stdout",
       "text": [
        "\n",
        "No object found for Larter_grad.msu_0128N_13633_DATA.xml"
       ]
      },
      {
       "output_type": "stream",
       "stream": "stdout",
       "text": [
        "\n",
        "No object found for Colle_grad.msu_0128D_13726_DATA.xml"
       ]
      },
      {
       "output_type": "stream",
       "stream": "stdout",
       "text": [
        "\n",
        "No object found for Sanders_grad.msu_0128D_13718_DATA.xml"
       ]
      },
      {
       "output_type": "stream",
       "stream": "stdout",
       "text": [
        "\n",
        "No object found for Perry_grad.msu_0128D_13740_DATA.xml"
       ]
      },
      {
       "output_type": "stream",
       "stream": "stdout",
       "text": [
        "\n",
        "No object found for Guajardo_grad.msu_0128D_13616_DATA.xml"
       ]
      },
      {
       "output_type": "stream",
       "stream": "stdout",
       "text": [
        "\n",
        "No object found for Baylis_grad.msu_0128D_13795_DATA.xml"
       ]
      },
      {
       "output_type": "stream",
       "stream": "stdout",
       "text": [
        "\n",
        "No object found for Tasior_grad.msu_0128N_13689_DATA.xml"
       ]
      },
      {
       "output_type": "stream",
       "stream": "stdout",
       "text": [
        "\n",
        "No object found for Thaler_grad.msu_0128D_13553_DATA.xml"
       ]
      },
      {
       "output_type": "stream",
       "stream": "stdout",
       "text": [
        "\n",
        "No object found for Sullivan_grad.msu_0128D_13700_DATA.xml"
       ]
      },
      {
       "output_type": "stream",
       "stream": "stdout",
       "text": [
        "\n",
        "No object found for Thomas_grad.msu_0128D_13596_DATA.xml"
       ]
      },
      {
       "output_type": "stream",
       "stream": "stdout",
       "text": [
        "\n",
        "Error for Igert_grad.msu_0128N_12896_DATA.xml"
       ]
      },
      {
       "output_type": "stream",
       "stream": "stdout",
       "text": [
        "\n",
        "[<DigitalObject etd:2488>, <DigitalObject etd:2327>, <DigitalObject etd:3122>, <DigitalObject etd:2330>, <DigitalObject etd:2321>, <DigitalObject etd:3139>, <DigitalObject etd:2331>, <DigitalObject etd:2319>, <DigitalObject etd:3138>, <DigitalObject etd:2317>, <DigitalObject etd:2335>, <DigitalObject etd:3140>, <DigitalObject etd:2329>, <DigitalObject etd:2334>, <DigitalObject etd:3118>, <DigitalObject etd:2731>, <DigitalObject etd:2328>, <DigitalObject etd:3137>, <DigitalObject etd:3141>, <DigitalObject etd:3142>, <DigitalObject etd:2325>, <DigitalObject etd:2326>, <DigitalObject etd:2332>, <DigitalObject etd:2322>, <DigitalObject etd:3127>, <DigitalObject etd:2333>, <DigitalObject etd:2320>, <DigitalObject etd:2323>]\n",
        "No object found for Lee_grad.msu_0128D_13732_DATA.xml"
       ]
      },
      {
       "output_type": "stream",
       "stream": "stdout",
       "text": [
        "\n",
        "Willenbring_grad.msu_0128D_10458_DATA.xml matches etd:1399"
       ]
      },
      {
       "output_type": "stream",
       "stream": "stdout",
       "text": [
        "\n",
        "No object found for Karabon_grad.msu_0128N_13601_DATA.xml"
       ]
      },
      {
       "output_type": "stream",
       "stream": "stdout",
       "text": [
        "\n",
        "No object found for Meisel_grad.msu_0128D_13564_DATA.xml"
       ]
      },
      {
       "output_type": "stream",
       "stream": "stdout",
       "text": [
        "\n",
        "No object found for Arsnoe_grad.msu_0128D_13690_DATA.xml"
       ]
      },
      {
       "output_type": "stream",
       "stream": "stdout",
       "text": [
        "\n",
        "No object found for Wibbens_grad.msu_0128D_13341_DATA.xml"
       ]
      },
      {
       "output_type": "stream",
       "stream": "stdout",
       "text": [
        "\n",
        "No object found for LeviDunietz_grad.msu_0128D_13623_DATA.xml"
       ]
      },
      {
       "output_type": "stream",
       "stream": "stdout",
       "text": [
        "\n",
        "No object found for Koehler_grad.msu_0128N_13768_DATA.xml"
       ]
      },
      {
       "output_type": "stream",
       "stream": "stdout",
       "text": [
        "\n",
        "Bao_grad.msu_0128D_12452_DATA.xml matches etd:2048"
       ]
      },
      {
       "output_type": "stream",
       "stream": "stdout",
       "text": [
        "\n",
        "No object found for Cowburn_grad.msu_0128D_13752_DATA.xml"
       ]
      },
      {
       "output_type": "stream",
       "stream": "stdout",
       "text": [
        "\n",
        "No object found for Smith_grad.msu_0128N_13652_DATA.xml"
       ]
      },
      {
       "output_type": "stream",
       "stream": "stdout",
       "text": [
        "\n",
        "No object found for Baumgart_grad.msu_0128N_13746_DATA.xml"
       ]
      },
      {
       "output_type": "stream",
       "stream": "stdout",
       "text": [
        "\n",
        "No object found for Grabowski_grad.msu_0128D_13611_DATA.xml"
       ]
      },
      {
       "output_type": "stream",
       "stream": "stdout",
       "text": [
        "\n",
        "No object found for Broda_grad.msu_0128D_13701_DATA.xml"
       ]
      },
      {
       "output_type": "stream",
       "stream": "stdout",
       "text": [
        "\n",
        "No object found for Mindes_grad.msu_0128N_13688_DATA.xml"
       ]
      },
      {
       "output_type": "stream",
       "stream": "stdout",
       "text": [
        "\n",
        "No object found for Lowe_grad.msu_0128D_13400_DATA.xml"
       ]
      },
      {
       "output_type": "stream",
       "stream": "stdout",
       "text": [
        "\n",
        "No object found for Liu_grad.msu_0128N_13767_DATA.xml"
       ]
      },
      {
       "output_type": "stream",
       "stream": "stdout",
       "text": [
        "\n",
        "No object found for Kubota_grad.msu_0128D_13643_DATA.xml"
       ]
      },
      {
       "output_type": "stream",
       "stream": "stdout",
       "text": [
        "\n",
        "No object found for Yeh_grad.msu_0128D_13660_DATA.xml"
       ]
      },
      {
       "output_type": "stream",
       "stream": "stdout",
       "text": [
        "\n",
        "No object found for Malik_grad.msu_0128D_13344_DATA.xml"
       ]
      },
      {
       "output_type": "stream",
       "stream": "stdout",
       "text": [
        "\n",
        "No object found for Kerver_grad.msu_0128D_13581_DATA.xml"
       ]
      },
      {
       "output_type": "stream",
       "stream": "stdout",
       "text": [
        "\n",
        "No object found for True_grad.msu_0128D_13176_DATA.xml"
       ]
      },
      {
       "output_type": "stream",
       "stream": "stdout",
       "text": [
        "\n",
        "No object found for Chakraborty_grad.msu_0128N_13033_DATA.xml"
       ]
      },
      {
       "output_type": "stream",
       "stream": "stdout",
       "text": [
        "\n",
        "No object found for Ladoni_grad.msu_0128D_13541_DATA.xml"
       ]
      },
      {
       "output_type": "stream",
       "stream": "stdout",
       "text": [
        "\n",
        "No object found for DeClercq_grad.msu_0128D_13548_DATA.xml"
       ]
      },
      {
       "output_type": "stream",
       "stream": "stdout",
       "text": [
        "\n",
        "No object found for Knott_grad.msu_0128D_13559_DATA.xml"
       ]
      },
      {
       "output_type": "stream",
       "stream": "stdout",
       "text": [
        "\n",
        "No object found for Han_grad.msu_0128D_13377_DATA.xml"
       ]
      },
      {
       "output_type": "stream",
       "stream": "stdout",
       "text": [
        "\n",
        "No object found for Fortain_grad.msu_0128D_13556_DATA.xml"
       ]
      },
      {
       "output_type": "stream",
       "stream": "stdout",
       "text": [
        "\n",
        "No object found for Lucidi_grad.msu_0128D_13656_DATA.xml"
       ]
      },
      {
       "output_type": "stream",
       "stream": "stdout",
       "text": [
        "\n",
        "No object found for Rawal_grad.msu_0128N_13764_DATA.xml"
       ]
      },
      {
       "output_type": "stream",
       "stream": "stdout",
       "text": [
        "\n",
        "No object found for Batanian_grad.msu_0128N_13651_DATA.xml"
       ]
      },
      {
       "output_type": "stream",
       "stream": "stdout",
       "text": [
        "\n",
        "No object found for Lee_grad.msu_0128N_13593_DATA.xml"
       ]
      },
      {
       "output_type": "stream",
       "stream": "stdout",
       "text": [
        "\n",
        "No object found for Lee_grad.msu_0128N_13756_DATA.xml"
       ]
      },
      {
       "output_type": "stream",
       "stream": "stdout",
       "text": [
        "\n",
        "No object found for Farley_grad.msu_0128D_13785_DATA.xml"
       ]
      },
      {
       "output_type": "stream",
       "stream": "stdout",
       "text": [
        "\n",
        "No object found for Fairbanks_grad.msu_0128D_13730_DATA.xml"
       ]
      },
      {
       "output_type": "stream",
       "stream": "stdout",
       "text": [
        "\n",
        "No object found for Iqbal_grad.msu_0128D_13634_DATA.xml"
       ]
      },
      {
       "output_type": "stream",
       "stream": "stdout",
       "text": [
        "\n",
        "No object found for Zhao_grad.msu_0128D_13719_DATA.xml"
       ]
      },
      {
       "output_type": "stream",
       "stream": "stdout",
       "text": [
        "\n",
        "No object found for Fowler_grad.msu_0128D_13492_DATA.xml"
       ]
      },
      {
       "output_type": "stream",
       "stream": "stdout",
       "text": [
        "\n",
        "No object found for King_grad.msu_0128N_13546_DATA.xml"
       ]
      },
      {
       "output_type": "stream",
       "stream": "stdout",
       "text": [
        "\n",
        "No object found for Holbrook_grad.msu_0128D_13590_DATA.xml"
       ]
      },
      {
       "output_type": "stream",
       "stream": "stdout",
       "text": [
        "\n",
        "No object found for Dang_grad.msu_0128D_13647_DATA.xml"
       ]
      },
      {
       "output_type": "stream",
       "stream": "stdout",
       "text": [
        "\n",
        "No object found for Zhao_grad.msu_0128N_13777_DATA.xml"
       ]
      },
      {
       "output_type": "stream",
       "stream": "stdout",
       "text": [
        "\n",
        "No object found for Ratnayake_grad.msu_0128D_13570_DATA.xml"
       ]
      },
      {
       "output_type": "stream",
       "stream": "stdout",
       "text": [
        "\n",
        "No object found for Meckley_grad.msu_0128D_13631_DATA.xml"
       ]
      },
      {
       "output_type": "stream",
       "stream": "stdout",
       "text": [
        "\n",
        "No object found for Dentzman_grad.msu_0128N_13532_DATA.xml"
       ]
      },
      {
       "output_type": "stream",
       "stream": "stdout",
       "text": [
        "\n",
        "No object found for Lown_grad.msu_0128D_13550_DATA.xml"
       ]
      },
      {
       "output_type": "stream",
       "stream": "stdout",
       "text": [
        "\n",
        "No object found for Arreola_grad.msu_0128D_13665_DATA.xml"
       ]
      },
      {
       "output_type": "stream",
       "stream": "stdout",
       "text": [
        "\n",
        "No object found for Wang_grad.msu_0128D_13598_DATA.xml"
       ]
      },
      {
       "output_type": "stream",
       "stream": "stdout",
       "text": [
        "\n",
        "No object found for Hasson_grad.msu_0128D_13677_DATA.xml"
       ]
      },
      {
       "output_type": "stream",
       "stream": "stdout",
       "text": [
        "\n",
        "No object found for Lee_grad.msu_0128D_13613_DATA.xml"
       ]
      },
      {
       "output_type": "stream",
       "stream": "stdout",
       "text": [
        "\n",
        "No object found for Bonnell_grad.msu_0128D_13734_DATA.xml"
       ]
      },
      {
       "output_type": "stream",
       "stream": "stdout",
       "text": [
        "\n",
        "No object found for MaioranaBasas_grad.msu_0128D_13664_DATA.xml"
       ]
      },
      {
       "output_type": "stream",
       "stream": "stdout",
       "text": [
        "\n",
        "No object found for Rossler_grad.msu_0128D_13684_DATA.xml"
       ]
      },
      {
       "output_type": "stream",
       "stream": "stdout",
       "text": [
        "\n",
        "No object found for Wondolowski_grad.msu_0128D_13615_DATA.xml"
       ]
      },
      {
       "output_type": "stream",
       "stream": "stdout",
       "text": [
        "\n",
        "No object found for Ponnan_grad.msu_0128D_13011_DATA.xml"
       ]
      },
      {
       "output_type": "stream",
       "stream": "stdout",
       "text": [
        "\n",
        "No object found for Ma_grad.msu_0128N_13099_DATA.xml"
       ]
      },
      {
       "output_type": "stream",
       "stream": "stdout",
       "text": [
        "\n",
        "No object found for Peng_grad.msu_0128D_13661_DATA.xml"
       ]
      },
      {
       "output_type": "stream",
       "stream": "stdout",
       "text": [
        "\n",
        "No object found for Matlock_grad.msu_0128N_13624_DATA.xml"
       ]
      },
      {
       "output_type": "stream",
       "stream": "stdout",
       "text": [
        "\n",
        "No object found for Gao_grad.msu_0128D_13797_DATA.xml"
       ]
      },
      {
       "output_type": "stream",
       "stream": "stdout",
       "text": [
        "\n",
        "No object found for Lei_grad.msu_0128D_13569_DATA.xml"
       ]
      },
      {
       "output_type": "stream",
       "stream": "stdout",
       "text": [
        "\n",
        "No object found for Morsink_grad.msu_0128D_13744_DATA.xml"
       ]
      },
      {
       "output_type": "stream",
       "stream": "stdout",
       "text": [
        "\n",
        "No object found for Rebenitsch_grad.msu_0128D_13636_DATA.xml"
       ]
      },
      {
       "output_type": "stream",
       "stream": "stdout",
       "text": [
        "\n",
        "No object found for Ivanisvili_grad.msu_0128D_13720_DATA.xml"
       ]
      },
      {
       "output_type": "stream",
       "stream": "stdout",
       "text": [
        "\n",
        "No object found for Kalibatseva_grad.msu_0128D_13793_DATA.xml"
       ]
      },
      {
       "output_type": "stream",
       "stream": "stdout",
       "text": [
        "\n",
        "No object found for Moran_grad.msu_0128D_13662_DATA.xml"
       ]
      },
      {
       "output_type": "stream",
       "stream": "stdout",
       "text": [
        "\n",
        "No object found for Lin_grad.msu_0128N_13674_DATA.xml"
       ]
      },
      {
       "output_type": "stream",
       "stream": "stdout",
       "text": [
        "\n",
        "No object found for Driska_grad.msu_0128D_13502_DATA.xml"
       ]
      },
      {
       "output_type": "stream",
       "stream": "stdout",
       "text": [
        "\n",
        "No object found for Lane_grad.msu_0128D_13753_DATA.xml"
       ]
      },
      {
       "output_type": "stream",
       "stream": "stdout",
       "text": [
        "\n",
        "No object found for LIU_grad.msu_0128D_13771_DATA.xml"
       ]
      },
      {
       "output_type": "stream",
       "stream": "stdout",
       "text": [
        "\n",
        "No object found for Li_grad.msu_0128D_13507_DATA.xml"
       ]
      },
      {
       "output_type": "stream",
       "stream": "stdout",
       "text": [
        "\n",
        "No object found for Barrese_grad.msu_0128D_13612_DATA.xml"
       ]
      },
      {
       "output_type": "stream",
       "stream": "stdout",
       "text": [
        "\n",
        "No object found for Young_grad.msu_0128D_13659_DATA.xml"
       ]
      },
      {
       "output_type": "stream",
       "stream": "stdout",
       "text": [
        "\n",
        "No object found for Muraoka_grad.msu_0128D_13758_DATA.xml"
       ]
      },
      {
       "output_type": "stream",
       "stream": "stdout",
       "text": [
        "\n",
        "No object found for CHEN_grad.msu_0128N_13557_DATA.xml"
       ]
      },
      {
       "output_type": "stream",
       "stream": "stdout",
       "text": [
        "\n",
        "No object found for Lewicki_grad.msu_0128D_13538_DATA.xml"
       ]
      },
      {
       "output_type": "stream",
       "stream": "stdout",
       "text": [
        "\n",
        "No object found for Namonje_grad.msu_0128N_13544_DATA.xml"
       ]
      },
      {
       "output_type": "stream",
       "stream": "stdout",
       "text": [
        "\n",
        "No object found for Kelley_grad.msu_0128N_13745_DATA.xml"
       ]
      },
      {
       "output_type": "stream",
       "stream": "stdout",
       "text": [
        "\n",
        "No object found for Eaton_grad.msu_0128D_13594_DATA.xml"
       ]
      },
      {
       "output_type": "stream",
       "stream": "stdout",
       "text": [
        "\n",
        "No object found for Maqsood_grad.msu_0128N_13551_DATA.xml"
       ]
      },
      {
       "output_type": "stream",
       "stream": "stdout",
       "text": [
        "\n",
        "No object found for Beauchamp_grad.msu_0128D_13686_DATA.xml"
       ]
      },
      {
       "output_type": "stream",
       "stream": "stdout",
       "text": [
        "\n",
        "BecerrilReyes_grad.msu_0128D_10494_DATA.xml matches etd:853"
       ]
      },
      {
       "output_type": "stream",
       "stream": "stdout",
       "text": [
        "\n",
        "No object found for Spicer_grad.msu_0128D_13697_DATA.xml"
       ]
      },
      {
       "output_type": "stream",
       "stream": "stdout",
       "text": [
        "\n",
        "No object found for Shahzad_grad.msu_0128D_13608_DATA.xml"
       ]
      },
      {
       "output_type": "stream",
       "stream": "stdout",
       "text": [
        "\n",
        "No object found for Snyder_grad.msu_0128D_13563_DATA.xml"
       ]
      },
      {
       "output_type": "stream",
       "stream": "stdout",
       "text": [
        "\n",
        "No object found for Wolff_grad.msu_0128D_13609_DATA.xml"
       ]
      },
      {
       "output_type": "stream",
       "stream": "stdout",
       "text": [
        "\n",
        "No object found for Radakovic_grad.msu_0128D_13604_DATA.xml"
       ]
      },
      {
       "output_type": "stream",
       "stream": "stdout",
       "text": [
        "\n",
        "No object found for Anderson_grad.msu_0128D_13713_DATA.xml"
       ]
      },
      {
       "output_type": "stream",
       "stream": "stdout",
       "text": [
        "\n",
        "No object found for Pan_grad.msu_0128D_13722_DATA.xml"
       ]
      },
      {
       "output_type": "stream",
       "stream": "stdout",
       "text": [
        "\n",
        "No object found for Zomerlei_grad.msu_0128D_13712_DATA.xml"
       ]
      },
      {
       "output_type": "stream",
       "stream": "stdout",
       "text": [
        "\n",
        "No object found for Sterling_grad.msu_0128D_13585_DATA.xml"
       ]
      },
      {
       "output_type": "stream",
       "stream": "stdout",
       "text": [
        "\n",
        "No object found for Tang_grad.msu_0128D_13710_DATA.xml"
       ]
      },
      {
       "output_type": "stream",
       "stream": "stdout",
       "text": [
        "\n",
        "No object found for Mohamed_grad.msu_0128D_13640_DATA.xml"
       ]
      },
      {
       "output_type": "stream",
       "stream": "stdout",
       "text": [
        "\n",
        "No object found for Patton_grad.msu_0128N_13747_DATA.xml"
       ]
      },
      {
       "output_type": "stream",
       "stream": "stdout",
       "text": [
        "\n",
        "No object found for Rowe_grad.msu_0128N_13770_DATA.xml"
       ]
      },
      {
       "output_type": "stream",
       "stream": "stdout",
       "text": [
        "\n",
        "No object found for Nutt_grad.msu_0128D_13739_DATA.xml"
       ]
      },
      {
       "output_type": "stream",
       "stream": "stdout",
       "text": [
        "\n",
        "No object found for Zhang_grad.msu_0128D_13597_DATA.xml"
       ]
      },
      {
       "output_type": "stream",
       "stream": "stdout",
       "text": [
        "\n",
        "No object found for Stevenson_grad.msu_0128D_13683_DATA.xml"
       ]
      },
      {
       "output_type": "stream",
       "stream": "stdout",
       "text": [
        "\n",
        "No object found for Mukherjee_grad.msu_0128D_13580_DATA.xml"
       ]
      },
      {
       "output_type": "stream",
       "stream": "stdout",
       "text": [
        "\n",
        "No object found for Cho_grad.msu_0128N_13727_DATA.xml"
       ]
      },
      {
       "output_type": "stream",
       "stream": "stdout",
       "text": [
        "\n",
        "No object found for Heltne_grad.msu_0128N_13761_DATA.xml"
       ]
      },
      {
       "output_type": "stream",
       "stream": "stdout",
       "text": [
        "\n",
        "No object found for Gallani_grad.msu_0128D_13653_DATA.xml"
       ]
      },
      {
       "output_type": "stream",
       "stream": "stdout",
       "text": [
        "\n",
        "No object found for Yu_grad.msu_0128D_13678_DATA.xml"
       ]
      },
      {
       "output_type": "stream",
       "stream": "stdout",
       "text": [
        "\n",
        "No object found for Williams_grad.msu_0128D_13586_DATA.xml"
       ]
      },
      {
       "output_type": "stream",
       "stream": "stdout",
       "text": [
        "\n",
        "No object found for Fischer_grad.msu_0128D_13706_DATA.xml"
       ]
      },
      {
       "output_type": "stream",
       "stream": "stdout",
       "text": [
        "\n",
        "No object found for McCune_grad.msu_0128D_13748_DATA.xml"
       ]
      },
      {
       "output_type": "stream",
       "stream": "stdout",
       "text": [
        "\n",
        "No object found for Barrent_grad.msu_0128N_13682_DATA.xml"
       ]
      },
      {
       "output_type": "stream",
       "stream": "stdout",
       "text": [
        "\n",
        "No object found for Butvidas_grad.msu_0128N_13670_DATA.xml"
       ]
      },
      {
       "output_type": "stream",
       "stream": "stdout",
       "text": [
        "\n",
        "No object found for Zhang_grad.msu_0128D_13750_DATA.xml"
       ]
      },
      {
       "output_type": "stream",
       "stream": "stdout",
       "text": [
        "\n",
        "No object found for Banks_grad.msu_0128N_13707_DATA.xml"
       ]
      },
      {
       "output_type": "stream",
       "stream": "stdout",
       "text": [
        "\n",
        "No object found for Varma_grad.msu_0128D_13632_DATA.xml"
       ]
      },
      {
       "output_type": "stream",
       "stream": "stdout",
       "text": [
        "\n",
        "No object found for Tang_grad.msu_0128D_13576_DATA.xml"
       ]
      },
      {
       "output_type": "stream",
       "stream": "stdout",
       "text": [
        "\n",
        "No object found for Goffnett_grad.msu_0128N_13680_DATA.xml"
       ]
      },
      {
       "output_type": "stream",
       "stream": "stdout",
       "text": [
        "\n",
        "Zou_grad.msu_0128D_10647_DATA.xml matches etd:1342"
       ]
      },
      {
       "output_type": "stream",
       "stream": "stdout",
       "text": [
        "\n",
        "No object found for Stramondo_grad.msu_0128D_13728_DATA.xml"
       ]
      },
      {
       "output_type": "stream",
       "stream": "stdout",
       "text": [
        "\n",
        "No object found for Iheka_grad.msu_0128D_13786_DATA.xml"
       ]
      },
      {
       "output_type": "stream",
       "stream": "stdout",
       "text": [
        "\n",
        "No object found for DelgadoAquije_grad.msu_0128N_13696_DATA.xml"
       ]
      },
      {
       "output_type": "stream",
       "stream": "stdout",
       "text": [
        "\n",
        "No object found for Jayeola_grad.msu_0128N_13735_DATA.xml"
       ]
      },
      {
       "output_type": "stream",
       "stream": "stdout",
       "text": [
        "\n",
        "No object found for DelCastilloMxFAnera_grad.msu_0128D_13635_DATA.xml"
       ]
      },
      {
       "output_type": "stream",
       "stream": "stdout",
       "text": [
        "\n",
        "No object found for Miller_grad.msu_0128N_13681_DATA.xml"
       ]
      },
      {
       "output_type": "stream",
       "stream": "stdout",
       "text": [
        "\n",
        "No object found for Crane_grad.msu_0128N_13617_DATA.xml"
       ]
      },
      {
       "output_type": "stream",
       "stream": "stdout",
       "text": [
        "\n",
        "No object found for Baumgart_grad.msu_0128N_13561_DATA.xml"
       ]
      },
      {
       "output_type": "stream",
       "stream": "stdout",
       "text": [
        "\n",
        "No object found for Rowe_grad.msu_0128D_13575_DATA.xml"
       ]
      },
      {
       "output_type": "stream",
       "stream": "stdout",
       "text": [
        "\n",
        "No object found for Watson_grad.msu_0128D_13560_DATA.xml"
       ]
      },
      {
       "output_type": "stream",
       "stream": "stdout",
       "text": [
        "\n",
        "No object found for Kurzeja_grad.msu_0128N_13669_DATA.xml"
       ]
      },
      {
       "output_type": "stream",
       "stream": "stdout",
       "text": [
        "\n",
        "No object found for Moore_grad.msu_0128D_13603_DATA.xml"
       ]
      },
      {
       "output_type": "stream",
       "stream": "stdout",
       "text": [
        "\n",
        "No object found for Vizvary_grad.msu_0128D_13552_DATA.xml"
       ]
      },
      {
       "output_type": "stream",
       "stream": "stdout",
       "text": [
        "\n",
        "No object found for Hao_grad.msu_0128D_13606_DATA.xml"
       ]
      },
      {
       "output_type": "stream",
       "stream": "stdout",
       "text": [
        "\n",
        "No object found for Hamilton_grad.msu_0128N_13649_DATA.xml"
       ]
      },
      {
       "output_type": "stream",
       "stream": "stdout",
       "text": [
        "\n",
        "No object found for Zeig_grad.msu_0128D_13754_DATA.xml"
       ]
      },
      {
       "output_type": "stream",
       "stream": "stdout",
       "text": [
        "\n",
        "No object found for France_grad.msu_0128D_13695_DATA.xml"
       ]
      },
      {
       "output_type": "stream",
       "stream": "stdout",
       "text": [
        "\n",
        "No object found for Zhu_grad.msu_0128D_13780_DATA.xml"
       ]
      },
      {
       "output_type": "stream",
       "stream": "stdout",
       "text": [
        "\n",
        "No object found for Borchani_grad.msu_0128D_13501_DATA.xml"
       ]
      },
      {
       "output_type": "stream",
       "stream": "stdout",
       "text": [
        "\n",
        "No object found for Liu_grad.msu_0128D_13646_DATA.xml"
       ]
      },
      {
       "output_type": "stream",
       "stream": "stdout",
       "text": [
        "\n",
        "No object found for Baird_grad.msu_0128N_13671_DATA.xml"
       ]
      },
      {
       "output_type": "stream",
       "stream": "stdout",
       "text": [
        "\n",
        "No object found for Vincent_grad.msu_0128N_13729_DATA.xml"
       ]
      },
      {
       "output_type": "stream",
       "stream": "stdout",
       "text": [
        "\n",
        "No object found for Meisel_grad.msu_0128D_13574_DATA.xml"
       ]
      },
      {
       "output_type": "stream",
       "stream": "stdout",
       "text": [
        "\n",
        "No object found for DeMarco_grad.msu_0128D_13582_DATA.xml"
       ]
      },
      {
       "output_type": "stream",
       "stream": "stdout",
       "text": [
        "\n",
        "No object found for Davis_grad.msu_0128D_13577_DATA.xml"
       ]
      },
      {
       "output_type": "stream",
       "stream": "stdout",
       "text": [
        "\n",
        "No object found for Safikhani_grad.msu_0128D_13705_DATA.xml"
       ]
      },
      {
       "output_type": "stream",
       "stream": "stdout",
       "text": [
        "\n",
        "No object found for Houser_grad.msu_0128N_13794_DATA.xml"
       ]
      },
      {
       "output_type": "stream",
       "stream": "stdout",
       "text": [
        "\n",
        "No object found for Button_grad.msu_0128D_13600_DATA.xml"
       ]
      },
      {
       "output_type": "stream",
       "stream": "stdout",
       "text": [
        "\n",
        "No object found for LeCompte_grad.msu_0128N_13627_DATA.xml"
       ]
      },
      {
       "output_type": "stream",
       "stream": "stdout",
       "text": [
        "\n",
        "No object found for Alzahabi_grad.msu_0128D_13571_DATA.xml"
       ]
      },
      {
       "output_type": "stream",
       "stream": "stdout",
       "text": [
        "\n",
        "No object found for McAlindon_grad.msu_0128N_13723_DATA.xml"
       ]
      },
      {
       "output_type": "stream",
       "stream": "stdout",
       "text": [
        "\n",
        "No object found for Kim_grad.msu_0128N_13779_DATA.xml"
       ]
      },
      {
       "output_type": "stream",
       "stream": "stdout",
       "text": [
        "\n",
        "No object found for Gage_grad.msu_0128N_13708_DATA.xml"
       ]
      },
      {
       "output_type": "stream",
       "stream": "stdout",
       "text": [
        "\n",
        "No object found for Wernet_grad.msu_0128D_13572_DATA.xml"
       ]
      },
      {
       "output_type": "stream",
       "stream": "stdout",
       "text": [
        "\n",
        "No object found for Scofield_grad.msu_0128D_13599_DATA.xml"
       ]
      },
      {
       "output_type": "stream",
       "stream": "stdout",
       "text": [
        "\n",
        "No object found for Manata_grad.msu_0128D_11472_DATA.xml"
       ]
      },
      {
       "output_type": "stream",
       "stream": "stdout",
       "text": [
        "\n",
        "No object found for Smith_grad.msu_0128N_12995_DATA.xml"
       ]
      },
      {
       "output_type": "stream",
       "stream": "stdout",
       "text": [
        "\n",
        "No object found for Taylor_grad.msu_0128D_13549_DATA.xml"
       ]
      },
      {
       "output_type": "stream",
       "stream": "stdout",
       "text": [
        "\n",
        "No object found for May_grad.msu_0128N_13673_DATA.xml"
       ]
      },
      {
       "output_type": "stream",
       "stream": "stdout",
       "text": [
        "\n",
        "No object found for Sparkling_grad.msu_0128N_13148_DATA.xml"
       ]
      },
      {
       "output_type": "stream",
       "stream": "stdout",
       "text": [
        "\n",
        "No object found for Yadav_grad.msu_0128D_13592_DATA.xml"
       ]
      },
      {
       "output_type": "stream",
       "stream": "stdout",
       "text": [
        "\n",
        "No object found for Zhu_grad.msu_0128D_13589_DATA.xml"
       ]
      },
      {
       "output_type": "stream",
       "stream": "stdout",
       "text": [
        "\n",
        "No object found for Morse_grad.msu_0128D_13641_DATA.xml"
       ]
      },
      {
       "output_type": "stream",
       "stream": "stdout",
       "text": [
        "\n",
        "No object found for Kelly_grad.msu_0128D_13787_DATA.xml"
       ]
      },
      {
       "output_type": "stream",
       "stream": "stdout",
       "text": [
        "\n",
        "No object found for Leger_grad.msu_0128N_13694_DATA.xml"
       ]
      },
      {
       "output_type": "stream",
       "stream": "stdout",
       "text": [
        "\n",
        "No object found for DePalmaDow_grad.msu_0128N_13388_DATA.xml"
       ]
      },
      {
       "output_type": "stream",
       "stream": "stdout",
       "text": [
        "\n",
        "No object found for Lin_grad.msu_0128D_13545_DATA.xml"
       ]
      },
      {
       "output_type": "stream",
       "stream": "stdout",
       "text": [
        "\n",
        "No object found for Decker_grad.msu_0128D_13702_DATA.xml"
       ]
      },
      {
       "output_type": "stream",
       "stream": "stdout",
       "text": [
        "\n",
        "No object found for Fang_grad.msu_0128D_13484_DATA.xml"
       ]
      },
      {
       "output_type": "stream",
       "stream": "stdout",
       "text": [
        "\n",
        "No object found for Mara_grad.msu_0128N_13738_DATA.xml"
       ]
      },
      {
       "output_type": "stream",
       "stream": "stdout",
       "text": [
        "\n",
        "No object found for Hsu_grad.msu_0128D_13642_DATA.xml"
       ]
      },
      {
       "output_type": "stream",
       "stream": "stdout",
       "text": [
        "\n",
        "No object found for Leonard_grad.msu_0128D_13614_DATA.xml"
       ]
      },
      {
       "output_type": "stream",
       "stream": "stdout",
       "text": [
        "\n",
        "No object found for Chansler_grad.msu_0128N_13737_DATA.xml"
       ]
      },
      {
       "output_type": "stream",
       "stream": "stdout",
       "text": [
        "\n",
        "No object found for Gustafson_grad.msu_0128D_13699_DATA.xml"
       ]
      },
      {
       "output_type": "stream",
       "stream": "stdout",
       "text": [
        "\n",
        "No object found for Leahy_grad.msu_0128D_13638_DATA.xml"
       ]
      },
      {
       "output_type": "stream",
       "stream": "stdout",
       "text": [
        "\n",
        "No object found for Wu_grad.msu_0128N_13644_DATA.xml"
       ]
      },
      {
       "output_type": "stream",
       "stream": "stdout",
       "text": [
        "\n",
        "No object found for VenegasVargas_grad.msu_0128D_13584_DATA.xml"
       ]
      },
      {
       "output_type": "stream",
       "stream": "stdout",
       "text": [
        "\n",
        "No object found for Posey_grad.msu_0128D_12748_DATA.xml"
       ]
      },
      {
       "output_type": "stream",
       "stream": "stdout",
       "text": [
        "\n",
        "No object found for Wang_grad.msu_0128D_13658_DATA.xml"
       ]
      },
      {
       "output_type": "stream",
       "stream": "stdout",
       "text": [
        "\n",
        "No object found for Farrugia_grad.msu_0128D_13655_DATA.xml"
       ]
      },
      {
       "output_type": "stream",
       "stream": "stdout",
       "text": [
        "\n",
        "No object found for Kavunja_grad.msu_0128D_13648_DATA.xml"
       ]
      },
      {
       "output_type": "stream",
       "stream": "stdout",
       "text": [
        "\n",
        "No object found for Quinn_grad.msu_0128D_13568_DATA.xml"
       ]
      },
      {
       "output_type": "stream",
       "stream": "stdout",
       "text": [
        "\n",
        "No object found for Wang_grad.msu_0128D_13536_DATA.xml"
       ]
      },
      {
       "output_type": "stream",
       "stream": "stdout",
       "text": [
        "\n",
        "No object found for Banerjee_grad.msu_0128D_13654_DATA.xml"
       ]
      },
      {
       "output_type": "stream",
       "stream": "stdout",
       "text": [
        "\n",
        "No object found for Howard_grad.msu_0128N_13675_DATA.xml"
       ]
      },
      {
       "output_type": "stream",
       "stream": "stdout",
       "text": [
        "\n",
        "No object found for Ayres_grad.msu_0128N_13711_DATA.xml"
       ]
      },
      {
       "output_type": "stream",
       "stream": "stdout",
       "text": [
        "\n",
        "No object found for Dault_grad.msu_0128D_13605_DATA.xml"
       ]
      },
      {
       "output_type": "stream",
       "stream": "stdout",
       "text": [
        "\n",
        "No object found for BeasleyWojick_grad.msu_0128D_13650_DATA.xml"
       ]
      },
      {
       "output_type": "stream",
       "stream": "stdout",
       "text": [
        "\n",
        "No object found for Bernard_grad.msu_0128N_13721_DATA.xml"
       ]
      },
      {
       "output_type": "stream",
       "stream": "stdout",
       "text": [
        "\n",
        "No object found for Smith_grad.msu_0128N_13663_DATA.xml"
       ]
      },
      {
       "output_type": "stream",
       "stream": "stdout",
       "text": [
        "\n",
        "No object found for Kelly_grad.msu_0128D_13766_DATA.xml"
       ]
      },
      {
       "output_type": "stream",
       "stream": "stdout",
       "text": [
        "\n",
        "No object found for Moss_grad.msu_0128N_13703_DATA.xml"
       ]
      },
      {
       "output_type": "stream",
       "stream": "stdout",
       "text": [
        "\n",
        "No object found for Gary_grad.msu_0128D_13760_DATA.xml"
       ]
      },
      {
       "output_type": "stream",
       "stream": "stdout",
       "text": [
        "\n",
        "No object found for Harden_grad.msu_0128N_13588_DATA.xml"
       ]
      },
      {
       "output_type": "stream",
       "stream": "stdout",
       "text": [
        "\n",
        "No object found for DelValle_grad.msu_0128D_13620_DATA.xml"
       ]
      },
      {
       "output_type": "stream",
       "stream": "stdout",
       "text": [
        "\n",
        "No object found for JohansenWilczewski_grad.msu_0128D_13698_DATA.xml"
       ]
      },
      {
       "output_type": "stream",
       "stream": "stdout",
       "text": [
        "\n",
        "No object found for Draheim_grad.msu_0128D_13645_DATA.xml"
       ]
      },
      {
       "output_type": "stream",
       "stream": "stdout",
       "text": [
        "\n",
        "No object found for Higashijima_grad.msu_0128D_13558_DATA.xml"
       ]
      },
      {
       "output_type": "stream",
       "stream": "stdout",
       "text": [
        "\n",
        "No object found for Nicley_grad.msu_0128D_13755_DATA.xml"
       ]
      },
      {
       "output_type": "stream",
       "stream": "stdout",
       "text": [
        "\n",
        "No object found for Nawaz_grad.msu_0128D_13717_DATA.xml"
       ]
      },
      {
       "output_type": "stream",
       "stream": "stdout",
       "text": [
        "\n",
        "No object found for Zhao_grad.msu_0128D_13714_DATA.xml"
       ]
      },
      {
       "output_type": "stream",
       "stream": "stdout",
       "text": [
        "\n",
        "No object found for Schmachtenberger_grad.msu_0128N_13676_DATA.xml"
       ]
      },
      {
       "output_type": "stream",
       "stream": "stdout",
       "text": [
        "\n",
        "No object found for Dong_grad.msu_0128D_13692_DATA.xml"
       ]
      },
      {
       "output_type": "stream",
       "stream": "stdout",
       "text": [
        "\n",
        "No object found for Lien_grad.msu_0128N_13505_DATA.xml"
       ]
      },
      {
       "output_type": "stream",
       "stream": "stdout",
       "text": [
        "\n",
        "No object found for Berkun_grad.msu_0128D_13687_DATA.xml"
       ]
      },
      {
       "output_type": "stream",
       "stream": "stdout",
       "text": [
        "\n",
        "No object found for Priess_grad.msu_0128D_13736_DATA.xml"
       ]
      },
      {
       "output_type": "stream",
       "stream": "stdout",
       "text": [
        "\n",
        "No object found for Roussey_grad.msu_0128D_13607_DATA.xml"
       ]
      },
      {
       "output_type": "stream",
       "stream": "stdout",
       "text": [
        "\n",
        "No object found for Wittman_grad.msu_0128N_13573_DATA.xml"
       ]
      },
      {
       "output_type": "stream",
       "stream": "stdout",
       "text": [
        "\n",
        "No object found for Bhatia_grad.msu_0128N_13791_DATA.xml"
       ]
      },
      {
       "output_type": "stream",
       "stream": "stdout",
       "text": [
        "\n",
        "No object found for Stadler_grad.msu_0128N_13587_DATA.xml"
       ]
      },
      {
       "output_type": "stream",
       "stream": "stdout",
       "text": [
        "\n",
        "No object found for Basundari_grad.msu_0128N_13679_DATA.xml"
       ]
      },
      {
       "output_type": "stream",
       "stream": "stdout",
       "text": [
        "\n",
        "No object found for Fredericks_grad.msu_0128D_13510_DATA.xml"
       ]
      },
      {
       "output_type": "stream",
       "stream": "stdout",
       "text": [
        "\n",
        "No object found for Ashman_grad.msu_0128D_13595_DATA.xml"
       ]
      },
      {
       "output_type": "stream",
       "stream": "stdout",
       "text": [
        "\n",
        "No object found for Nnawulezi_grad.msu_0128D_10341_DATA.xml"
       ]
      },
      {
       "output_type": "stream",
       "stream": "stdout",
       "text": [
        "\n",
        "No object found for Thompson_grad.msu_0128D_13621_DATA.xml"
       ]
      },
      {
       "output_type": "stream",
       "stream": "stdout",
       "text": [
        "\n",
        "No object found for Hermann_grad.msu_0128D_13743_DATA.xml"
       ]
      },
      {
       "output_type": "stream",
       "stream": "stdout",
       "text": [
        "\n",
        "No object found for ARIN_grad.msu_0128D_13724_DATA.xml"
       ]
      },
      {
       "output_type": "stream",
       "stream": "stdout",
       "text": [
        "\n",
        "No object found for Wee_grad.msu_0128D_13657_DATA.xml"
       ]
      },
      {
       "output_type": "stream",
       "stream": "stdout",
       "text": [
        "\n",
        "No object found for Davis_grad.msu_0128D_13267_DATA.xml"
       ]
      },
      {
       "output_type": "stream",
       "stream": "stdout",
       "text": [
        "\n",
        "No object found for Akono_grad.msu_0128N_13765_DATA.xml"
       ]
      },
      {
       "output_type": "stream",
       "stream": "stdout",
       "text": [
        "\n",
        "No object found for Lutz_grad.msu_0128N_13618_DATA.xml"
       ]
      },
      {
       "output_type": "stream",
       "stream": "stdout",
       "text": [
        "\n",
        "No object found for PattersonIII_grad.msu_0128D_13749_DATA.xml"
       ]
      },
      {
       "output_type": "stream",
       "stream": "stdout",
       "text": [
        "\n",
        "No object found for Alsanad_grad.msu_0128N_13637_DATA.xml"
       ]
      },
      {
       "output_type": "stream",
       "stream": "stdout",
       "text": [
        "\n",
        "No object found for Gamache_grad.msu_0128D_13788_DATA.xml"
       ]
      },
      {
       "output_type": "stream",
       "stream": "stdout",
       "text": [
        "\n",
        "No object found for Mansbach_grad.msu_0128D_13622_DATA.xml"
       ]
      },
      {
       "output_type": "stream",
       "stream": "stdout",
       "text": [
        "\n",
        "No object found for Signorini_grad.msu_0128D_13628_DATA.xml"
       ]
      },
      {
       "output_type": "stream",
       "stream": "stdout",
       "text": [
        "\n",
        "No object found for Moss_grad.msu_0128N_13731_DATA.xml"
       ]
      },
      {
       "output_type": "stream",
       "stream": "stdout",
       "text": [
        "\n",
        "No object found for Kornbluh_grad.msu_0128D_13759_DATA.xml"
       ]
      },
      {
       "output_type": "stream",
       "stream": "stdout",
       "text": [
        "\n",
        "No object found for Khodakova_grad.msu_0128N_13751_DATA.xml"
       ]
      },
      {
       "output_type": "stream",
       "stream": "stdout",
       "text": [
        "\n",
        "No object found for Liu_grad.msu_0128D_13667_DATA.xml"
       ]
      },
      {
       "output_type": "stream",
       "stream": "stdout",
       "text": [
        "\n",
        "No object found for Wang_grad.msu_0128D_13567_DATA.xml"
       ]
      },
      {
       "output_type": "stream",
       "stream": "stdout",
       "text": [
        "\n",
        "No object found for Lincoln_grad.msu_0128N_13716_DATA.xml"
       ]
      },
      {
       "output_type": "stream",
       "stream": "stdout",
       "text": [
        "\n",
        "No object found for Ali_grad.msu_0128N_13685_DATA.xml"
       ]
      },
      {
       "output_type": "stream",
       "stream": "stdout",
       "text": [
        "\n",
        "No object found for Harvey_grad.msu_0128D_13610_DATA.xml"
       ]
      },
      {
       "output_type": "stream",
       "stream": "stdout",
       "text": [
        "\n",
        "No object found for Hallam_grad.msu_0128D_13619_DATA.xml"
       ]
      },
      {
       "output_type": "stream",
       "stream": "stdout",
       "text": [
        "\n"
       ]
      }
     ],
     "prompt_number": 1
    },
    {
     "cell_type": "code",
     "collapsed": true,
     "input": [],
     "language": "python",
     "metadata": {},
     "outputs": []
    },
    {
     "cell_type": "code",
     "collapsed": true,
     "input": [],
     "language": "python",
     "metadata": {},
     "outputs": []
    }
   ],
   "metadata": {}
  }
 ]
}